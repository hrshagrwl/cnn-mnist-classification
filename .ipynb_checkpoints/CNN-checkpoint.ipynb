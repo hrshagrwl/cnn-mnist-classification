{
 "cells": [
  {
   "cell_type": "code",
   "execution_count": 0,
   "metadata": {
    "colab": {},
    "colab_type": "code",
    "id": "un3dgXVVDBN0"
   },
   "outputs": [],
   "source": [
    "import tensorflow as tf\n",
    "tf.set_random_seed(7)\n",
    "import keras\n",
    "from keras.utils import to_categorical\n",
    "from keras.models import Sequential\n",
    "from keras.layers import Dense, Conv2D, Flatten, Dropout\n",
    "from keras import optimizers\n",
    "from sklearn.metrics import accuracy_score"
   ]
  },
  {
   "cell_type": "code",
   "execution_count": 0,
   "metadata": {
    "colab": {},
    "colab_type": "code",
    "id": "Ra_Qz_L9DKZS"
   },
   "outputs": [],
   "source": [
    "from mlxtend.data import loadlocal_mnist\n",
    "from sklearn.model_selection import train_test_split\n",
    "import numpy as np\n",
    "\n",
    "files = {\n",
    "    \"X\": \"train-images-idx3-ubyte\",\n",
    "    \"y\": \"train-labels-idx1-ubyte\",\n",
    "    \"X_test\": \"t10k-images-idx3-ubyte\",\n",
    "    \"y_test\": \"t10k-labels-idx1-ubyte\"\n",
    "}\n",
    "\n",
    "# Code to load the binary files.\n",
    "# https://github.com/rasbt/mlxtend/blob/master/mlxtend/data/local_mnist.py\n",
    "\n",
    "X, y = loadlocal_mnist(images_path = files['X'], labels_path = files['y'])\n",
    "X_test, y_test = loadlocal_mnist(images_path = files['X_test'], labels_path = files['y_test'])"
   ]
  },
  {
   "cell_type": "code",
   "execution_count": 0,
   "metadata": {
    "colab": {
     "base_uri": "https://localhost:8080/",
     "height": 68
    },
    "colab_type": "code",
    "id": "6jeCFuwaFx67",
    "outputId": "7dc5d215-8086-4c6f-e065-c0250dea440d"
   },
   "outputs": [
    {
     "name": "stdout",
     "output_type": "stream",
     "text": [
      "(45000, 28, 28, 1)\n",
      "(15000, 28, 28, 1)\n",
      "(10000, 28, 28, 1)\n"
     ]
    }
   ],
   "source": [
    "X = X.reshape(X.shape[0], 28, 28, 1)\n",
    "X_test = X_test.reshape(X_test.shape[0], 28, 28, 1)\n",
    "\n",
    "\n",
    "# Split the data\n",
    "X_train, X_valid, y_train, y_valid = train_test_split(X, y, test_size=0.25, random_state=42)\n",
    "\n",
    "print(X_train.shape)\n",
    "print(X_valid.shape)\n",
    "print(X_test.shape)"
   ]
  },
  {
   "cell_type": "code",
   "execution_count": 0,
   "metadata": {
    "colab": {},
    "colab_type": "code",
    "id": "bpdXCikBGZ3u"
   },
   "outputs": [],
   "source": [
    "encoded_y_train = to_categorical(y_train)\n",
    "encoded_y_valid = to_categorical(y_valid)\n",
    "encoded_y_test = to_categorical(y_test)"
   ]
  },
  {
   "cell_type": "code",
   "execution_count": 0,
   "metadata": {
    "colab": {
     "base_uri": "https://localhost:8080/",
     "height": 136
    },
    "colab_type": "code",
    "id": "-zp0vz3EG0-d",
    "outputId": "ff6a5f0c-7b44-435b-e057-64c44eed1e41"
   },
   "outputs": [
    {
     "name": "stdout",
     "output_type": "stream",
     "text": [
      "Train on 45000 samples, validate on 15000 samples\n",
      "Epoch 1/3\n",
      "45000/45000 [==============================] - 194s 4ms/step - loss: 0.3856 - acc: 0.9120 - val_loss: 0.0783 - val_acc: 0.9782\n",
      "Epoch 2/3\n",
      "45000/45000 [==============================] - 196s 4ms/step - loss: 0.1062 - acc: 0.9679 - val_loss: 0.0701 - val_acc: 0.9800\n",
      "Epoch 3/3\n",
      "45000/45000 [==============================] - 195s 4ms/step - loss: 0.0798 - acc: 0.9762 - val_loss: 0.0592 - val_acc: 0.9831\n"
     ]
    }
   ],
   "source": [
    "# create model\n",
    "model = Sequential()\n",
    "# add model layers\n",
    "model.add(Conv2D(64, kernel_size = 3, activation = 'relu', input_shape =(28, 28, 1)))\n",
    "model.add(Conv2D(32, kernel_size = 3, activation = 'relu'))\n",
    "model.add(Flatten())\n",
    "model.add(Dense(128, activation='relu'))\n",
    "#one more dropout for convergence' sake :) \n",
    "model.add(Dropout(0.5))\n",
    "model.add(Dense(10, activation = 'softmax', kernel_initializer='random_uniform',bias_initializer='zeros'))\n",
    "sgd = optimizers.SGD(lr=0.01, decay=1e-6, momentum=0.9, nesterov=True)\n",
    "model.compile(optimizer = 'adam', loss = 'categorical_crossentropy', metrics = ['accuracy'])\n",
    "hist = model.fit(X_train, encoded_y_train, validation_data = (X_valid,encoded_y_valid),batch_size=128, epochs = 3)"
   ]
  },
  {
   "cell_type": "code",
   "execution_count": 0,
   "metadata": {
    "colab": {},
    "colab_type": "code",
    "id": "xL38dCLEG4I4"
   },
   "outputs": [],
   "source": [
    "y_pred = model.predict(X_test)"
   ]
  },
  {
   "cell_type": "code",
   "execution_count": 0,
   "metadata": {
    "colab": {},
    "colab_type": "code",
    "id": "ITDdXCfkNu4g"
   },
   "outputs": [],
   "source": [
    "y_pred[:10]\n",
    "op = np.unravel_index(np.argmax(y_pred, axis=1), y_pred.shape)"
   ]
  },
  {
   "cell_type": "code",
   "execution_count": 0,
   "metadata": {
    "colab": {
     "base_uri": "https://localhost:8080/",
     "height": 34
    },
    "colab_type": "code",
    "id": "v_YauyOdN0Mj",
    "outputId": "c9158f7b-dac8-418e-bb72-2377dddc3480"
   },
   "outputs": [
    {
     "data": {
      "text/plain": [
       "0.9862"
      ]
     },
     "execution_count": 28,
     "metadata": {
      "tags": []
     },
     "output_type": "execute_result"
    }
   ],
   "source": [
    "accuracy_score(y_test, op[1])"
   ]
  },
  {
   "cell_type": "code",
   "execution_count": 0,
   "metadata": {
    "colab": {},
    "colab_type": "code",
    "id": "NN9PJNEQN3mC"
   },
   "outputs": [],
   "source": []
  }
 ],
 "metadata": {
  "colab": {
   "collapsed_sections": [],
   "name": "CNN.ipynb",
   "provenance": [],
   "version": "0.3.2"
  },
  "kernelspec": {
   "display_name": "Python 3",
   "language": "python",
   "name": "python3"
  },
  "language_info": {
   "codemirror_mode": {
    "name": "ipython",
    "version": 3
   },
   "file_extension": ".py",
   "mimetype": "text/x-python",
   "name": "python",
   "nbconvert_exporter": "python",
   "pygments_lexer": "ipython3",
   "version": "3.7.0"
  }
 },
 "nbformat": 4,
 "nbformat_minor": 1
}
